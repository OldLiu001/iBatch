{
 "cells": [
  {
   "cell_type": "code",
   "execution_count": null,
   "id": "2c44746e",
   "metadata": {},
   "outputs": [],
   "source": [
    "exit"
   ]
  },
  {
   "cell_type": "code",
   "execution_count": null,
   "id": "fc565210",
   "metadata": {},
   "outputs": [],
   "source": [
    "sd"
   ]
  }
 ],
 "metadata": {
  "kernelspec": {
   "display_name": "Batch File",
   "language": "batchfile",
   "name": "batch"
  },
  "language_info": {
   "file_extension": ".bat",
   "name": "Batch",
   "pygments_lexer": "Batch"
  }
 },
 "nbformat": 4,
 "nbformat_minor": 5
}
